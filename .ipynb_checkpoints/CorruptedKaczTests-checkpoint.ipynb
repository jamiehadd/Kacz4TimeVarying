{
 "cells": [
  {
   "cell_type": "code",
   "execution_count": 1,
   "metadata": {},
   "outputs": [],
   "source": [
    "import numpy as np\n",
    "import pandas as pd\n",
    "import matplotlib.pyplot as plt\n",
    "import random as random\n",
    "import math\n",
    "\n",
    "from scipy.linalg import svdvals\n",
    "from sklearn.preprocessing import normalize\n",
    "\n",
    "from minsv import *\n",
    "from errorbound import *\n",
    "from gencorrup import *\n",
    "from gennoise import *\n",
    "from qrk1 import *\n",
    "from qrk2 import *\n",
    "from noisyRK import *\n",
    "from thm25 import *\n",
    "from thm24 import *"
   ]
  },
  {
   "cell_type": "code",
   "execution_count": 2,
   "metadata": {},
   "outputs": [],
   "source": [
    "#Matrix dimensions\n",
    "m = 200000\n",
    "n = 100\n",
    "\n",
    "#Vary the matrix type\n",
    "#A_t = np.random.randn(m,n)\n",
    "#A_t = np.random.uniform(size=(m,n))\n",
    "A_t = np.random.binomial(1,0.5,size=(m,n))\n",
    "\n",
    "#Create the solution equation\n",
    "A_n = normalize(A_t)\n",
    "x_t = np.random.randn(n,1)\n",
    "b_t = np.dot(A_n,x_t)\n",
    "\n",
    "x_1 = np.zeros((n,1))\n",
    "x_1[0] = 1\n",
    "\n",
    "q = 0.8\n",
    "\n",
    "e_0 = np.linalg.norm(-1*x_t)**2"
   ]
  },
  {
   "cell_type": "code",
   "execution_count": 3,
   "metadata": {},
   "outputs": [],
   "source": [
    "#Corruption size + rate manipulation\n",
    "beta = 0.000006\n",
    "csize = 10000\n",
    "num = 10000\n",
    "iters = list(range(num))\n",
    "\n",
    "#Noise parameters\n",
    "mu = 0 #fixed\n",
    "sig = 0.01\n",
    "mu2 = sig*math.sqrt(2/np.pi)\n",
    "sig2 = sig*math.sqrt(1-2/np.pi)\n",
    "noise_max = 0\n",
    "sampsize = 1"
   ]
  },
  {
   "cell_type": "code",
   "execution_count": 4,
   "metadata": {},
   "outputs": [],
   "source": [
    "#Compute sigma values\n",
    "\n",
    "sigmin = minSV2(A_n,q,beta)\n",
    "sigmax = np.linalg.svd(A_n,compute_uv=False).max()"
   ]
  },
  {
   "cell_type": "code",
   "execution_count": 5,
   "metadata": {},
   "outputs": [
    {
     "ename": "ValueError",
     "evalue": "The truth value of an array with more than one element is ambiguous. Use a.any() or a.all()",
     "output_type": "error",
     "traceback": [
      "\u001b[0;31m---------------------------------------------------------------------------\u001b[0m",
      "\u001b[0;31mValueError\u001b[0m                                Traceback (most recent call last)",
      "Cell \u001b[0;32mIn[5], line 2\u001b[0m\n\u001b[1;32m      1\u001b[0m \u001b[38;5;66;03m#kacz experiment for 2.4\u001b[39;00m\n\u001b[0;32m----> 2\u001b[0m _,_,kacz_experiment_qrk,_,N,NBS \u001b[38;5;241m=\u001b[39m \u001b[43mQuantileRK2\u001b[49m\u001b[43m(\u001b[49m\u001b[43mA_n\u001b[49m\u001b[43m,\u001b[49m\u001b[43mx_t\u001b[49m\u001b[43m,\u001b[49m\u001b[43mb_t\u001b[49m\u001b[43m,\u001b[49m\u001b[43mq\u001b[49m\u001b[43m,\u001b[49m\u001b[43mm\u001b[49m\u001b[43m,\u001b[49m\u001b[43mbeta\u001b[49m\u001b[43m,\u001b[49m\u001b[43mcsize\u001b[49m\u001b[43m,\u001b[49m\u001b[43msig\u001b[49m\u001b[43m,\u001b[49m\u001b[43mnum\u001b[49m\u001b[43m)\u001b[49m\n",
      "File \u001b[0;32m~/Kacz4TimeVarying/qrk2.py:46\u001b[0m, in \u001b[0;36mQuantileRK2\u001b[0;34m(A, x, b, q, t, beta, corr_size, sig, num_iter)\u001b[0m\n\u001b[1;32m     43\u001b[0m B \u001b[38;5;241m=\u001b[39m np\u001b[38;5;241m.\u001b[39mwhere(residuals \u001b[38;5;241m<\u001b[39m\u001b[38;5;241m=\u001b[39m q_quantile)[\u001b[38;5;241m0\u001b[39m]\n\u001b[1;32m     45\u001b[0m \u001b[38;5;66;03m# determine the set of uncorrupted admissible rows, and select the noise from those elements\u001b[39;00m\n\u001b[0;32m---> 46\u001b[0m B_S \u001b[38;5;241m=\u001b[39m B[\u001b[43mB\u001b[49m\u001b[43m \u001b[49m\u001b[38;5;129;43;01mnot\u001b[39;49;00m\u001b[43m \u001b[49m\u001b[38;5;129;43;01min\u001b[39;49;00m\u001b[43m \u001b[49m\u001b[43mC\u001b[49m\u001b[43m[\u001b[49m\u001b[38;5;241;43m1\u001b[39;49m\u001b[43m]\u001b[49m]\n\u001b[1;32m     47\u001b[0m noise_B_S \u001b[38;5;241m=\u001b[39m noise[B_S]\u001b[38;5;241m.\u001b[39mreshape(noise[B_S]\u001b[38;5;241m.\u001b[39mshape[\u001b[38;5;241m1\u001b[39m],\u001b[38;5;241m1\u001b[39m)\n\u001b[1;32m     48\u001b[0m NBS\u001b[38;5;241m.\u001b[39mappend(noise_B_S)\n",
      "\u001b[0;31mValueError\u001b[0m: The truth value of an array with more than one element is ambiguous. Use a.any() or a.all()"
     ]
    }
   ],
   "source": [
    "#kacz experiment for 2.4\n",
    "_,_,kacz_experiment_qrk,_,N,NBS = QuantileRK2(A_n,x_t,b_t,q,m,beta,csize,sig,num)"
   ]
  },
  {
   "cell_type": "code",
   "execution_count": null,
   "metadata": {},
   "outputs": [],
   "source": [
    "errors,phi = error_bound_thm_2_4(A_n,x_t,q,beta,N,NBS,q,num)\n",
    "phi"
   ]
  },
  {
   "cell_type": "code",
   "execution_count": null,
   "metadata": {},
   "outputs": [],
   "source": [
    "#kacz experiment avg for 2.4\n",
    "\n",
    "kacz_experiment_qrk_avg = [0]*num\n",
    "errors24_avg = [0]*num\n",
    "for i in range(sampsize):\n",
    "    _,_,kacz_experiment_qrk,noise_m_i,_,_ = QuantileRK2(A_n,x_t,b_t,q,m,beta,csize,sig,num)\n",
    "    errors24,_ = error_bound_thm_2_4(A_n,x_t,q,beta,N,NBS,q,num)\n",
    "    kacz_experiment_qrk_avg = list(map(lambda x: x[0]+x[1], list(zip(kacz_experiment_qrk,kacz_experiment_qrk_avg))))\n",
    "    errors24_avg = list(map(lambda x: x[0]+x[1], list(zip(errors24,errors24_avg))))\n",
    "kacz_experiment_qrk_avg = list(map(lambda x: x/sampsize, kacz_experiment_qrk_avg))\n",
    "errors24_avg = list(map(lambda x: x/sampsize, errors24_avg))"
   ]
  },
  {
   "cell_type": "code",
   "execution_count": null,
   "metadata": {},
   "outputs": [],
   "source": [
    "fig = plt.figure()\n",
    "\n",
    "plt.semilogy(iters,kacz_experiment_qrk_avg,'g-')\n",
    "plt.semilogy(iters,errors24_avg, 'r--')\n",
    "\n",
    "#plt.title(r\"$20000 \\times 100$ Matrix, $\\mu = $, $\\sigma = $\")\n",
    "plt.rcParams.update({'font.size': 16})\n",
    "plt.tick_params(labelsize=16)\n",
    "plt.xlabel('$k$',{'size':18})\n",
    "plt.ylabel('$||\\mathbf{x}_k - \\mathbf{x}||^2$',{'size':18})\n",
    "plt.legend(['QRK','Theorem 2.4'],loc=\"upper right\")\n",
    "fig.show()"
   ]
  },
  {
   "cell_type": "code",
   "execution_count": null,
   "metadata": {},
   "outputs": [],
   "source": [
    "#kacz experiment for corollaries\n",
    "\n",
    "kacz_experiment_qrk_avg = [0]*num\n",
    "for i in range(sampsize):\n",
    "    _,_,kacz_experiment_qrk,noise_m_i,_,_ = QuantileRK2(A_n,x_t,b_t,q,m,beta,csize,sig,num)\n",
    "    noise_max = max(noise_max,noise_m_i)\n",
    "    kacz_experiment_qrk_avg = list(map(lambda x: x[0]+x[1], list(zip(kacz_experiment_qrk,kacz_experiment_qrk_avg))))\n",
    "kacz_experiment_qrk_avg = list(map(lambda x: x/sampsize, kacz_experiment_qrk_avg))"
   ]
  },
  {
   "cell_type": "code",
   "execution_count": null,
   "metadata": {},
   "outputs": [],
   "source": [
    "noise_max"
   ]
  },
  {
   "cell_type": "code",
   "execution_count": null,
   "metadata": {},
   "outputs": [],
   "source": [
    "#Generate errors\n",
    "\n",
    "errors1 = error_bound_crl_1(A_n,x_t,q,beta,noise_max,q,num)"
   ]
  },
  {
   "cell_type": "code",
   "execution_count": null,
   "metadata": {},
   "outputs": [],
   "source": [
    "#errors2 = error_bound_crl_2(A_n,x_t,q,beta,mu,sig,mu2,sig2,q,num)"
   ]
  },
  {
   "cell_type": "code",
   "execution_count": null,
   "metadata": {},
   "outputs": [],
   "source": [
    "errors3 = error_bound_crl_3(A_n,x_t,q,beta,sig,q,num)"
   ]
  },
  {
   "cell_type": "code",
   "execution_count": null,
   "metadata": {},
   "outputs": [],
   "source": [
    "fig = plt.figure()\n",
    "\n",
    "plt.semilogy(iters,kacz_experiment_qrk_avg,'g-')\n",
    "plt.semilogy(iters,errors1, 'r--')\n",
    "#plt.semilogy(iters,errors2, 'g--')\n",
    "plt.semilogy(iters,errors3, 'b-.')\n",
    "\n",
    "#plt.title(r\"$20000 \\times 100$ Matrix, $\\mu = $, $\\sigma = $\")\n",
    "plt.rcParams.update({'font.size': 16})\n",
    "plt.tick_params(labelsize=16)\n",
    "plt.xlabel('$k$',{'size':18})\n",
    "plt.ylabel('$||\\mathbf{x}_k - \\mathbf{x}||^2$',{'size':18})\n",
    "plt.legend(['QRK','Corollary 2.4.1', 'Corollary 2.4.3'],loc=\"upper right\")\n",
    "fig.show()"
   ]
  },
  {
   "cell_type": "code",
   "execution_count": null,
   "metadata": {},
   "outputs": [],
   "source": []
  }
 ],
 "metadata": {
  "kernelspec": {
   "display_name": "Python 3 (ipykernel)",
   "language": "python",
   "name": "python3"
  },
  "language_info": {
   "codemirror_mode": {
    "name": "ipython",
    "version": 3
   },
   "file_extension": ".py",
   "mimetype": "text/x-python",
   "name": "python",
   "nbconvert_exporter": "python",
   "pygments_lexer": "ipython3",
   "version": "3.9.7"
  }
 },
 "nbformat": 4,
 "nbformat_minor": 2
}
