{
 "cells": [
  {
   "cell_type": "code",
   "execution_count": 46,
   "metadata": {},
   "outputs": [],
   "source": [
    "import numpy as np\n",
    "import pandas as pd\n",
    "import matplotlib.pyplot as plt\n",
    "import random as random\n",
    "\n",
    "from scipy.linalg import svdvals\n",
    "from sklearn.preprocessing import normalize\n",
    "\n",
    "from minsv import *\n",
    "from errorbound import *\n",
    "from gencorrup import *\n",
    "from qrk1 import *\n",
    "from qrk2 import *\n",
    "from noisyRK import *\n",
    "from thm25 import *"
   ]
  },
  {
   "cell_type": "code",
   "execution_count": 47,
   "metadata": {},
   "outputs": [],
   "source": [
    "#Matrix dimensions\n",
    "m = 20000\n",
    "n = 100\n",
    "\n",
    "#Vary the matrix type\n",
    "A_t = np.random.randn(m,n)\n",
    "#A_t = np.random.uniform(size=(m,n))\n",
    "#A_t = np.random.binomial(1,0.5,size=(m,n))\n",
    "\n",
    "#Create the solution equation\n",
    "#A_n = normalize(A_t)\n",
    "A_n = A_t\n",
    "x_t = np.random.randn(n,1)\n",
    "b_t = np.dot(A_n,x_t)\n",
    "\n",
    "x_1 = np.zeros((n,1))\n",
    "x_1[0] = 1\n",
    "\n",
    "q = 0.8\n",
    "b = 0.0001\n",
    "\n",
    "e_0 = np.linalg.norm(x_t)**2"
   ]
  },
  {
   "cell_type": "code",
   "execution_count": 48,
   "metadata": {},
   "outputs": [],
   "source": [
    "#Compute sigma values\n",
    "\n",
    "#sigmin = minSV1(A_n,x_1,q,b)\n",
    "#sigmin = minSV1(A_n,x_1,1,0)\n",
    "#sigmin = minSV2(A_n,q,b)\n",
    "sigmin = np.linalg.svd(A_n,compute_uv=False).min()\n",
    "sigmax = np.linalg.svd(A_n,compute_uv=False).max()"
   ]
  },
  {
   "cell_type": "code",
   "execution_count": 49,
   "metadata": {},
   "outputs": [
    {
     "data": {
      "text/plain": [
       "131.52705577657827"
      ]
     },
     "execution_count": 49,
     "metadata": {},
     "output_type": "execute_result"
    }
   ],
   "source": [
    "sigmin"
   ]
  },
  {
   "cell_type": "code",
   "execution_count": 50,
   "metadata": {},
   "outputs": [],
   "source": [
    "#Theorem 2.5\n",
    "mean = 0.000000\n",
    "sd = 0.00001\n",
    "num = 100"
   ]
  },
  {
   "cell_type": "code",
   "execution_count": 51,
   "metadata": {},
   "outputs": [],
   "source": [
    "errors_rk = error_bound_thm_2_5(A_n,mean,sd,num,sigmin,e_0)\n",
    "kacz_experiment_rk = RK_ex_n(A_n,x_t,b_t,mean,sd,num)"
   ]
  },
  {
   "cell_type": "code",
   "execution_count": 52,
   "metadata": {},
   "outputs": [
    {
     "name": "stderr",
     "output_type": "stream",
     "text": [
      "<ipython-input-52-8b8dd4ff9f6d>:12: UserWarning: Matplotlib is currently using module://ipykernel.pylab.backend_inline, which is a non-GUI backend, so cannot show the figure.\n",
      "  fig.show()\n"
     ]
    },
    {
     "data": {
      "image/png": "[encoded data removed]",
      "text/plain": [
       "<Figure size 432x288 with 1 Axes>"
      ]
     },
     "metadata": {
      "needs_background": "light"
     },
     "output_type": "display_data"
    }
   ],
   "source": [
    "fig = plt.figure()\n",
    "\n",
    "plt.plot(kacz_experiment_rk[1],kacz_experiment_rk[2],'g-')\n",
    "plt.semilogy(list(range(num)),errors_rk,'g--')\n",
    "\n",
    "#plt.title(r\"$20000 \\times 100$ Matrix, $\\mu = 0$, $\\sigma = 0$\")\n",
    "plt.rcParams.update({'font.size': 16})\n",
    "plt.tick_params(labelsize=16)\n",
    "plt.xlabel('$k$',{'size':18})\n",
    "plt.ylabel('$||\\mathbf{x}_k - \\mathbf{x}||^2$',{'size':18})\n",
    "plt.legend(['RK','Thm 2.5'],loc=\"upper right\")\n",
    "fig.show()"
   ]
  }
 ],
 "metadata": {
  "kernelspec": {
   "display_name": "base",
   "language": "python",
   "name": "python3"
  },
  "language_info": {
   "codemirror_mode": {
    "name": "ipython",
    "version": 3
   },
   "file_extension": ".py",
   "mimetype": "text/x-python",
   "name": "python",
   "nbconvert_exporter": "python",
   "pygments_lexer": "ipython3",
   "version": "3.8.3"
  },
  "orig_nbformat": 4
 },
 "nbformat": 4,
 "nbformat_minor": 2
}
