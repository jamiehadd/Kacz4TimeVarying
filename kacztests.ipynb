{
 "cells": [
  {
   "cell_type": "code",
   "execution_count": 12,
   "metadata": {},
   "outputs": [],
   "source": [
    "import numpy as np\n",
    "import pandas as pd\n",
    "import matplotlib.pyplot as plt\n",
    "import random as random\n",
    "\n",
    "from scipy.linalg import svdvals\n",
    "from sklearn.preprocessing import normalize\n",
    "\n",
    "from minsv import *\n",
    "from errorbound import *\n",
    "from gencorrup import *\n",
    "from qrk1 import *\n",
    "from qrk2 import *\n",
    "from noisyRK import *\n",
    "from thm25 import *"
   ]
  },
  {
   "cell_type": "code",
   "execution_count": 13,
   "metadata": {},
   "outputs": [],
   "source": [
    "#Matrix dimensions\n",
    "m = 20000\n",
    "n = 100\n",
    "\n",
    "#Vary the matrix type\n",
    "#A_t = np.random.randn(m,n)\n",
    "A_t = np.random.uniform(size=(m,n))\n",
    "#A_t = np.random.binomial(1,0.5,size=(m,n))\n",
    "\n",
    "#Create the solution equation\n",
    "A_n = normalize(A_t)\n",
    "x_t = np.random.randn(n,1)\n",
    "b_t = np.dot(A_n,x_t)\n",
    "\n",
    "x_1 = np.zeros((n,1))\n",
    "x_1[0] = 1\n",
    "\n",
    "q = 0.8\n",
    "b = 0.0001\n",
    "\n",
    "e_0 = np.linalg.norm(-1*x_t)**2"
   ]
  },
  {
   "cell_type": "code",
   "execution_count": 14,
   "metadata": {},
   "outputs": [],
   "source": [
    "#Compute sigma values\n",
    "\n",
    "#sigmin = minSV(A_n,x_1,q,b)\n",
    "sigmin = minSV2(A_n,q,b)\n",
    "sigmax = np.linalg.svd(A_n,compute_uv=False).max()"
   ]
  },
  {
   "cell_type": "code",
   "execution_count": 15,
   "metadata": {},
   "outputs": [],
   "source": [
    "#Generate errors\n",
    "\n",
    "#errors1 = error_bound_crl_1(A_n,x_t,q,b,0.00003,q,10000)\n",
    "#errors2 = error_bound_crl_2(A_n,x_t,q,b,0.00001,q,10000)\n",
    "errors3 = error_bound_crl_3(A_n,x_t,q,b,0.00001,q,10000)\n",
    "\n",
    "iters = list(range(10000))"
   ]
  },
  {
   "cell_type": "code",
   "execution_count": 16,
   "metadata": {},
   "outputs": [],
   "source": [
    "#Corruption size + rate manipulation\n",
    "b = 0.0001\n",
    "csize = 10000\n",
    "num = 10000"
   ]
  },
  {
   "cell_type": "code",
   "execution_count": 17,
   "metadata": {},
   "outputs": [],
   "source": [
    "kacz_experiment = QuantileRK1_ex(A_n,x_t,b_t,q,m,b,csize,num)"
   ]
  },
  {
   "cell_type": "code",
   "execution_count": 18,
   "metadata": {},
   "outputs": [],
   "source": [
    "kacz_experiment_2 = QuantileRK2_ex(A_n,x_t,b_t,q,m,b,csize,num)"
   ]
  },
  {
   "cell_type": "code",
   "execution_count": 19,
   "metadata": {},
   "outputs": [],
   "source": [
    "kacz_experiment_3 = QuantileRK2_ex_n(A_n,x_t,b_t,q,m,b,csize,0.00001,num)"
   ]
  },
  {
   "cell_type": "code",
   "execution_count": 20,
   "metadata": {},
   "outputs": [
    {
     "data": {
      "text/plain": [
       "[<matplotlib.lines.Line2D at 0x161ada8>]"
      ]
     },
     "execution_count": 20,
     "metadata": {},
     "output_type": "execute_result"
    },
    {
     "name": "stderr",
     "output_type": "stream",
     "text": [
      "c:\\Users\\pache\\anaconda3\\lib\\site-packages\\numpy\\ma\\core.py:6900: RuntimeWarning: overflow encountered in power\n",
      "  result = np.where(m, fa, umath.power(fa, fb)).view(basetype)\n"
     ]
    },
    {
     "data": {
      "image/png": "[encoded data removed]",
      "text/plain": [
       "<Figure size 432x288 with 1 Axes>"
      ]
     },
     "metadata": {
      "needs_background": "light"
     },
     "output_type": "display_data"
    }
   ],
   "source": [
    "#plt.semilogy(iters,errors1)\n",
    "#plt.semilogy(iters,errors2)\n",
    "plt.semilogy(iters,errors3)\n",
    "plt.semilogy(kacz_experiment_3[1],kacz_experiment_3[2])"
   ]
  },
  {
   "cell_type": "code",
   "execution_count": 21,
   "metadata": {},
   "outputs": [],
   "source": [
    "#Theorem 2.5\n",
    "phi2 = 1 - (sigmin/np.linalg.norm(A_n))**2\n",
    "mean = 0\n",
    "sd = 0\n",
    "num = 20000"
   ]
  },
  {
   "cell_type": "code",
   "execution_count": 22,
   "metadata": {},
   "outputs": [],
   "source": [
    "errors_rk = error_bound_thm_2_5(A_n,mean,sd,num,sigmin,e_0)\n",
    "kacz_experiment_rk = RK_ex_n(A_n,x_t,b_t,mean,sd,num)"
   ]
  },
  {
   "cell_type": "code",
   "execution_count": 23,
   "metadata": {},
   "outputs": [
    {
     "name": "stderr",
     "output_type": "stream",
     "text": [
      "<ipython-input-23-650be181521e>:10: UserWarning: Matplotlib is currently using module://ipykernel.pylab.backend_inline, which is a non-GUI backend, so cannot show the figure.\n",
      "  fig.show()\n"
     ]
    },
    {
     "data": {
      "image/png": "[encoded data removed]",
      "text/plain": [
       "<Figure size 432x288 with 1 Axes>"
      ]
     },
     "metadata": {
      "needs_background": "light"
     },
     "output_type": "display_data"
    }
   ],
   "source": [
    "fig = plt.figure()\n",
    "\n",
    "plt.semilogy(kacz_experiment_rk[1],kacz_experiment_rk[2],'g-')\n",
    "plt.semilogy(list(range(num)),errors_rk,'g--')\n",
    "\n",
    "plt.title(r\"$20000 \\times 100$ Matrix, $\\mu = 0$, $\\sigma = 0$\")\n",
    "plt.xlabel('$k$')\n",
    "plt.ylabel('$\\|\\mathbf{x}_k - \\mathbf{x}\\|^2$')\n",
    "plt.legend(['experiment','bound'],loc=\"lower left\")\n",
    "fig.show()"
   ]
  }
 ],
 "metadata": {
  "kernelspec": {
   "display_name": "base",
   "language": "python",
   "name": "python3"
  },
  "language_info": {
   "codemirror_mode": {
    "name": "ipython",
    "version": 3
   },
   "file_extension": ".py",
   "mimetype": "text/x-python",
   "name": "python",
   "nbconvert_exporter": "python",
   "pygments_lexer": "ipython3",
   "version": "3.8.3"
  },
  "orig_nbformat": 4
 },
 "nbformat": 4,
 "nbformat_minor": 2
}
