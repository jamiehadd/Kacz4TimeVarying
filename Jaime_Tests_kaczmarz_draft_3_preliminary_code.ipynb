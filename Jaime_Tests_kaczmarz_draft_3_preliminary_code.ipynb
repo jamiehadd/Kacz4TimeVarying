{
  "nbformat": 4,
  "nbformat_minor": 0,
  "metadata": {
    "colab": {
      "provenance": []
    },
    "kernelspec": {
      "name": "python3",
      "display_name": "Python 3"
    },
    "language_info": {
      "name": "python"
    }
  },
  "cells": [
    {
      "cell_type": "code",
      "execution_count": null,
      "metadata": {
        "id": "AAmduOsnA0Ca"
      },
      "outputs": [],
      "source": [
        "import numpy as np\n",
        "import pandas as pd\n",
        "import matplotlib.pyplot as plt\n",
        "import random as random\n",
        "\n",
        "from scipy.linalg import svdvals\n",
        "from sklearn.preprocessing import normalize"
      ]
    },
    {
      "cell_type": "code",
      "source": [
        "def minSV(A,x,q,beta):\n",
        "    m_in = A.shape[0]\n",
        "    inner_p = [0]*m_in\n",
        "    for i in range(m_in):\n",
        "        inner_p[i] = [np.inner(x.T,A[i]).item(0)**2,i]\n",
        "    df_inner = pd.DataFrame(inner_p)\n",
        "    df_asc = df_inner.sort_values(by=[0])\n",
        "    df_min = df_asc.iloc[:int(m_in*(q-beta))]\n",
        "    min_arr = np.array(df_min[1])\n",
        "    A_df = pd.DataFrame(A).loc[min_arr]\n",
        "    A_S = np.asmatrix(A_df)\n",
        "    return (np.linalg.norm(A_S*x))/(np.linalg.norm(x))"
      ],
      "metadata": {
        "id": "ImnegyozA5pf"
      },
      "execution_count": null,
      "outputs": []
    },
    {
      "cell_type": "code",
      "source": [
        "def minSV2(A,q,beta):\n",
        "    min_sv = A.shape[0] #initialize to something that will be greater than any singular value\n",
        "    for i in range(100):\n",
        "      A_S = A[np.random.choice(A.shape[0], size=np.floor((((1-q)-beta)*A.shape[0])).astype(int), replace=False),]\n",
        "      min_sv = min(min_sv,min(svdvals(A_S)))\n",
        "    return min_sv"
      ],
      "metadata": {
        "id": "Knj7BPOMLT90"
      },
      "execution_count": null,
      "outputs": []
    },
    {
      "cell_type": "code",
      "source": [
        "m = 20000\n",
        "n = 100\n",
        "\n",
        "#Vary the matrix type\n",
        "#A_t = np.random.randn(m,n)\n",
        "A_t = np.random.uniform(size=(m,n))\n",
        "#A_t = np.random.binomial(1,0.5,size=(m,n))\n",
        "\n",
        "A_n = normalize(A_t)\n",
        "x_t = np.random.randn(n,1)\n",
        "b_t = np.dot(A_n,x_t)\n",
        "\n",
        "x_1 = np.zeros((n,1))\n",
        "x_1[0] = 1\n",
        "\n",
        "q = 0.8\n",
        "b = 0.0001"
      ],
      "metadata": {
        "id": "J12Onc09BKZN"
      },
      "execution_count": null,
      "outputs": []
    },
    {
      "cell_type": "code",
      "source": [
        "A_t"
      ],
      "metadata": {
        "colab": {
          "base_uri": "https://localhost:8080/"
        },
        "id": "ew_ZMAglRzeM",
        "outputId": "5379173c-702d-459f-83e6-147cbd1ca6cd"
      },
      "execution_count": null,
      "outputs": [
        {
          "output_type": "execute_result",
          "data": {
            "text/plain": [
              "array([[0.73719722, 0.1674635 , 0.06549627, ..., 0.91737322, 0.38836923,\n",
              "        0.75173791],\n",
              "       [0.85575785, 0.04071195, 0.33442219, ..., 0.30969438, 0.58845256,\n",
              "        0.91378879],\n",
              "       [0.20946883, 0.74076584, 0.12857892, ..., 0.74898132, 0.91943016,\n",
              "        0.51612808],\n",
              "       ...,\n",
              "       [0.28883413, 0.21015252, 0.28304127, ..., 0.46120605, 0.92394914,\n",
              "        0.22388825],\n",
              "       [0.71002644, 0.23895886, 0.35984487, ..., 0.09759007, 0.65641991,\n",
              "        0.1831367 ],\n",
              "       [0.39745216, 0.65067782, 0.4484556 , ..., 0.16695491, 0.97119798,\n",
              "        0.66742442]])"
            ]
          },
          "metadata": {},
          "execution_count": 5
        }
      ]
    },
    {
      "cell_type": "code",
      "source": [
        "#sigmin = minSV(A_n,x_1,q,b)\n",
        "sigmin = minSV2(A_n,q,b)\n",
        "sigmax = np.linalg.svd(A_n,compute_uv=False).max()"
      ],
      "metadata": {
        "id": "AOHarlmQA_LG"
      },
      "execution_count": null,
      "outputs": []
    },
    {
      "cell_type": "code",
      "source": [
        "term_1 = ((sigmin**2)/(q*m))*((q-b)/(q))\n",
        "term_2 = ((sigmax**2)/(q*m))*(((2*np.sqrt(b*(1-b)))/((1-q-b)))  +  ((b*(1-b))/((1-q-b)**2)))\n",
        "term_3 = ((sigmax)/(q*m))*(((2*np.sqrt(b*m))/(m*(1-q-b)))  +  ((2*b*np.sqrt(m*(1-b)))/(m*((1-q-b)**2))))\n",
        "\n",
        "term_4 = (b)/(q*(m**2)*((1-q-b)**2))\n",
        "\n",
        "phi = term_1 - term_2 - term_3\n",
        "c_2 = term_3 + term_4"
      ],
      "metadata": {
        "id": "cCJSR4kwB0X1"
      },
      "execution_count": null,
      "outputs": []
    },
    {
      "cell_type": "code",
      "source": [
        "phi"
      ],
      "metadata": {
        "colab": {
          "base_uri": "https://localhost:8080/"
        },
        "id": "dS7x1B4lIDp2",
        "outputId": "78ddc5c7-19d0-4444-b154-322607739922"
      },
      "execution_count": null,
      "outputs": [
        {
          "output_type": "execute_result",
          "data": {
            "text/plain": [
              "-0.09583183799233524"
            ]
          },
          "metadata": {},
          "execution_count": 8
        }
      ]
    },
    {
      "cell_type": "code",
      "source": [
        "p = 1"
      ],
      "metadata": {
        "id": "GXeXxMb1EfRe"
      },
      "execution_count": null,
      "outputs": []
    },
    {
      "cell_type": "code",
      "source": [
        "e_0 = np.linalg.norm(-1*x_t)**2"
      ],
      "metadata": {
        "id": "NMWHHCCtFFg8"
      },
      "execution_count": null,
      "outputs": []
    },
    {
      "cell_type": "code",
      "source": [
        "def error_bound_crl_1(A,x,q,beta,n_max,p,num_iter):\n",
        "  m = A.shape[0]\n",
        "\n",
        "  x_1 = np.zeros((n,1))\n",
        "  x_1[0] = 1\n",
        "  sigmin = minSV(A_n,x_1,q,beta)\n",
        "  sigmax = np.linalg.svd(A,compute_uv=False).max()\n",
        "\n",
        "  term_1 = ((sigmin**2)/(q*m))*((q-beta)/(q))\n",
        "  term_2 = ((sigmax**2)/(q*m))*(((2*np.sqrt(beta*(1-beta)))/((1-q-beta)))  +  ((beta*(1-beta))/((1-q-beta)**2)))\n",
        "  term_3 = ((sigmax)/(q*m))*(((2*np.sqrt(beta*m))/(m*(1-q-beta)))  +  ((2*beta*np.sqrt(m*(1-beta)))/(m*((1-q-beta)**2))))\n",
        "  term_4 = (b)/(q*(m**2)*((1-q-b)**2))\n",
        "\n",
        "  phi = term_1 - term_2 - term_3\n",
        "  c_2 = term_3 + term_4\n",
        "  e_0 = np.linalg.norm(-1*x_t)**2\n",
        "\n",
        "  error = [0]*num_iter\n",
        "  error[0] = e_0**2\n",
        "  for i in range(1,num_iter):\n",
        "    c_a = (1-p*phi)**(i+1)\n",
        "    error[i] = c_a*e_0**2 + ((1-c_a)/phi)*(n_max**2)*(1+(c_2*(m**2)))\n",
        "  return error"
      ],
      "metadata": {
        "id": "DN_CiHPEVxIP"
      },
      "execution_count": null,
      "outputs": []
    },
    {
      "cell_type": "code",
      "source": [
        "def error_bound_crl_2(A,x,q,beta,mu,sig,mu2,sig2,p,num_iter):\n",
        "  m = A.shape[0]\n",
        "\n",
        "  x_1 = np.zeros((n,1))\n",
        "  x_1[0] = 1\n",
        "  sigmin = minSV(A_n,x_1,q,beta)\n",
        "  sigmax = np.linalg.svd(A,compute_uv=False).max()\n",
        "\n",
        "  term_1 = ((sigmin**2)/(q*m))*((q-beta)/(q))\n",
        "  term_2 = ((sigmax**2)/(q*m))*(((2*np.sqrt(beta*(1-beta)))/((1-q-beta)))  +  ((beta*(1-beta))/((1-q-beta)**2)))\n",
        "  term_3 = ((sigmax)/(q*m))*(((2*np.sqrt(beta*m))/(m*(1-q-beta)))  +  ((2*beta*np.sqrt(m*(1-beta)))/(m*((1-q-beta)**2))))\n",
        "  term_4 = (b)/(q*(m**2)*((1-q-b)**2))\n",
        "\n",
        "  phi = term_1 - term_2 - term_3\n",
        "  c_2 = term_3 + term_4\n",
        "  e_0 = np.linalg.norm(-1*x_t)**2\n",
        "\n",
        "  error = [0]*num_iter\n",
        "  error[0] = e_0**2\n",
        "  for i in range(1,num_iter):\n",
        "    c_a = (1-p*phi)**(i+1)\n",
        "    error[i] = c_a*e_0**2 + ((1-c_a)/phi)*((mu**2) + (sig**2) + c_2*((m**2)*(mu2**2) + m*(sig2**2)))\n",
        "  return error"
      ],
      "metadata": {
        "id": "1Q5AzQZ-YCQj"
      },
      "execution_count": null,
      "outputs": []
    },
    {
      "cell_type": "code",
      "source": [
        "def error_bound_crl_3(A,x,q,beta,sig,p,num_iter):\n",
        "  m = A.shape[0]\n",
        "\n",
        "  x_1 = np.zeros((n,1))\n",
        "  x_1[0] = 1\n",
        "  sigmin = minSV(A_n,x_1,q,beta)\n",
        "  sigmax = np.linalg.svd(A,compute_uv=False).max()\n",
        "\n",
        "  term_1 = ((sigmin**2)/(q*m))*((q-beta)/(q))\n",
        "  term_2 = ((sigmax**2)/(q*m))*(((2*np.sqrt(beta*(1-beta)))/((1-q-beta)))  +  ((beta*(1-beta))/((1-q-beta)**2)))\n",
        "  term_3 = ((sigmax)/(q*m))*(((2*np.sqrt(beta*m))/(m*(1-q-beta)))  +  ((2*beta*np.sqrt(m*(1-beta)))/(m*((1-q-beta)**2))))\n",
        "  term_4 = (b)/(q*(m**2)*((1-q-b)**2))\n",
        "\n",
        "  phi = term_1 - term_2 - term_3\n",
        "  c_2 = term_3 + term_4\n",
        "  e_0 = np.linalg.norm(-1*x_t)**2\n",
        "\n",
        "  error = [0]*num_iter\n",
        "  error[0] = e_0**2\n",
        "  for i in range(1,num_iter):\n",
        "    c_a = (1-p*phi)**(i+1)\n",
        "    error[i] = c_a*e_0**2 + ((1-c_a)/phi)*(sig**2)*(1+(c_2*((m**2)*(2/np.pi)  + m*(1 - (2/np.pi)))))\n",
        "  return error\n",
        "\n"
      ],
      "metadata": {
        "id": "FTfQhBZ7-xOL"
      },
      "execution_count": null,
      "outputs": []
    },
    {
      "cell_type": "code",
      "source": [
        "#errors1 = error_bound_crl_1(A_n,x_t,q,b,0.00003,q,10000)\n",
        "#errors2 = error_bound_crl_2(A_n,x_t,q,b,0.00001,q,10000)\n",
        "errors3 = error_bound_crl_3(A_n,x_t,q,b,0.00001,q,10000)"
      ],
      "metadata": {
        "id": "7rdEFJUTHB6H"
      },
      "execution_count": null,
      "outputs": []
    },
    {
      "cell_type": "code",
      "source": [
        "iters = list(range(10000))"
      ],
      "metadata": {
        "id": "MsDO5qGaHqZ1"
      },
      "execution_count": null,
      "outputs": []
    },
    {
      "cell_type": "code",
      "source": [
        "def generateCorruption_s(b,corruption_rate,corruption_size):\n",
        "  m_b = b.shape[0]\n",
        "  nums = np.zeros(m_b)\n",
        "  nums[:int(m_b*corruption_rate)] = 1\n",
        "  np.random.shuffle(nums)\n",
        "  corruption = np.asarray(nums).reshape(m_b,1)*(corruption_size)\n",
        "  return b + corruption"
      ],
      "metadata": {
        "id": "dYn-njThoPBV"
      },
      "execution_count": null,
      "outputs": []
    },
    {
      "cell_type": "code",
      "source": [
        "# this is the actual code for Algorithm 1\n",
        "def QuantileRK1(A,x,b,q,t,beta,corr_size,num_iter):\n",
        "  m = A.shape[0]\n",
        "  n = A.shape[1]\n",
        "  x_j = np.zeros((n,1))\n",
        "  error = [0]*num_iter\n",
        "  for j in range(num_iter):\n",
        "    # this will be the corrupted b that we use\n",
        "    b_k = generateCorruption_s(b,beta,corr_size)\n",
        "\n",
        "    # sample i_1,..., i_t ~ Uniform(1,...,m)\n",
        "    sampled_rows = random.sample(range(m),t)\n",
        "\n",
        "    # sample k ~ Uniform(1,...,m)\n",
        "    k = np.random.choice(range(m))\n",
        "\n",
        "    # now we calculate quantile from sampled rows\n",
        "\n",
        "    residuals = [None]*t\n",
        "    residuals_index = 0\n",
        "    for row in sampled_rows:\n",
        "      # calculate the residual for that row\n",
        "      residual = np.abs(np.inner(x_j.T,A[row,:])[0] - b_k[row][0])\n",
        "      residuals[residuals_index] = residual\n",
        "      residuals_index += 1\n",
        "\n",
        "    # calculate the q-quantile of the set of residuals\n",
        "    q_quantile = np.quantile(residuals,q)\n",
        "\n",
        "    # calculate the current residual\n",
        "\n",
        "    current_residual = np.abs(np.inner(x_j.T,A[k,:])[0] - b_k[k][0])\n",
        "\n",
        "    # finally, quantile kaczmarz\n",
        "    if current_residual <= q_quantile:\n",
        "      x_j_new = x_j - ((np.inner(x_j.T,A[k,:])[0] - b_k[k][0])*A[k,:].T).reshape(n,1)\n",
        "      x_j = x_j_new\n",
        "    else:\n",
        "      pass\n",
        "    error[j] = np.linalg.norm(x_j - x)**2\n",
        "  return [x_j,list(range(num_iter)),error]\n"
      ],
      "metadata": {
        "id": "qlZ1WBfGDooC"
      },
      "execution_count": null,
      "outputs": []
    },
    {
      "cell_type": "code",
      "source": [
        "# we are always using t = m, so let's make this a little faster\n",
        "\n",
        "def QuantileRK1_ex(A,x,b,q,t,beta,corr_size,num_iter):\n",
        "  m = A.shape[0]\n",
        "  n = A.shape[1]\n",
        "  x_j = np.zeros((n,1))\n",
        "  error = [0]*num_iter\n",
        "  for j in range(num_iter):\n",
        "    # this will be the corrupted b that we use\n",
        "    b_k = generateCorruption_s(b,beta,corr_size)\n",
        "\n",
        "    # sample k ~ Uniform(1,...,m)\n",
        "    k = np.random.choice(range(m))\n",
        "\n",
        "    # now we calculate quantile from sampled rows\n",
        "\n",
        "    residuals = np.abs(np.dot(A,x_j) - b_k)\n",
        "\n",
        "    # calculate the q-quantile of the set of residuals\n",
        "    q_quantile = np.quantile(residuals,q)\n",
        "\n",
        "    # calculate the current residual\n",
        "\n",
        "    current_residual = np.abs(np.inner(x_j.T,A[k,:])[0] - b_k[k][0])\n",
        "\n",
        "    # finally, quantile kaczmarz\n",
        "    if current_residual <= q_quantile:\n",
        "      x_j_new = x_j - ((np.inner(x_j.T,A[k,:])[0] - b_k[k][0])*A[k,:].T).reshape(n,1)\n",
        "      x_j = x_j_new\n",
        "    else:\n",
        "      pass\n",
        "    error[j] = np.linalg.norm(x_j - x)**2\n",
        "  return [x_j,list(range(num_iter)),error]"
      ],
      "metadata": {
        "id": "61m0fcS-uG5S"
      },
      "execution_count": null,
      "outputs": []
    },
    {
      "cell_type": "code",
      "source": [
        "def QuantileRK2_ex(A,x,b,q,t,beta,corr_size,num_iter):\n",
        "  m = A.shape[0]\n",
        "  n = A.shape[1]\n",
        "  x_k = np.zeros((n,1))\n",
        "  error = [0]*num_iter\n",
        "  for k in range(num_iter):\n",
        "    # this will be the corrupted b that we use\n",
        "    b_k = generateCorruption_s(b,beta,corr_size)\n",
        "\n",
        "    # now we calculate quantile from sampled rows\n",
        "    residuals = np.abs(np.dot(A,x_k) - b_k)\n",
        "\n",
        "    # calculate the q-quantile of the set of residuals\n",
        "    q_quantile = np.quantile(residuals,q)\n",
        "\n",
        "    # get a row where current residual < q_quantile\n",
        "    i = np.random.choice(np.where(residuals <= q_quantile)[0])\n",
        "\n",
        "    x_k_new = x_k - ((np.inner(x_k.T,A[i,:])[0] - b_k[i][0])*A[i,:].T).reshape(n,1)\n",
        "    x_k = x_k_new\n",
        "    error[k] = np.linalg.norm(x_k - x)**2\n",
        "  return [x_k,list(range(num_iter)),error]"
      ],
      "metadata": {
        "id": "KeUY0iFlxvzX"
      },
      "execution_count": null,
      "outputs": []
    },
    {
      "cell_type": "code",
      "source": [
        "def QuantileRK2_ex_n(A,x,b,q,t,beta,corr_size,sig,num_iter):\n",
        "  m = A.shape[0]\n",
        "  n = A.shape[1]\n",
        "  x_k = np.zeros((n,1))\n",
        "  error = [0]*num_iter\n",
        "  for k in range(num_iter):\n",
        "    # this will be the corrupted b that we use\n",
        "    b_k = generateCorruption_s(b,beta,corr_size)\n",
        "    b_k = b_k + np.random.normal(0,sig,(m,1))\n",
        "\n",
        "    # now we calculate quantile from sampled rows\n",
        "    residuals = np.abs(np.dot(A,x_k) - b_k)\n",
        "\n",
        "    # calculate the q-quantile of the set of residuals\n",
        "    q_quantile = np.quantile(residuals,q)\n",
        "\n",
        "    # get a row where current residual < q_quantile\n",
        "    i = np.random.choice(np.where(residuals <= q_quantile)[0])\n",
        "\n",
        "    x_k_new = x_k - ((np.inner(x_k.T,A[i,:])[0] - b_k[i][0])*A[i,:].T).reshape(n,1)\n",
        "    x_k = x_k_new\n",
        "    error[k] = np.linalg.norm(x_k - x)**2\n",
        "  return [x_k,list(range(num_iter)),error]"
      ],
      "metadata": {
        "id": "YH4aEuRL3u2m"
      },
      "execution_count": null,
      "outputs": []
    },
    {
      "cell_type": "code",
      "source": [
        "#Corruption size + rate manipulation\n",
        "b = 0.0001\n",
        "csize = 10000\n",
        "num = 10000\n"
      ],
      "metadata": {
        "id": "d9WRxoiAK87H"
      },
      "execution_count": null,
      "outputs": []
    },
    {
      "cell_type": "code",
      "source": [
        "kacz_experiment = QuantileRK1_ex(A_n,x_t,b_t,q,m,b,csize,num)"
      ],
      "metadata": {
        "id": "kLn6kJwln2hg"
      },
      "execution_count": null,
      "outputs": []
    },
    {
      "cell_type": "code",
      "source": [
        "kacz_experiment_2 = QuantileRK2_ex(A_n,x_t,b_t,q,m,b,csize,num)"
      ],
      "metadata": {
        "id": "Kt0gQxvRJ1Yy"
      },
      "execution_count": null,
      "outputs": []
    },
    {
      "cell_type": "code",
      "source": [
        "kacz_experiment_3 = QuantileRK2_ex_n(A_n,x_t,b_t,q,m,b,csize,0.00001,num)"
      ],
      "metadata": {
        "id": "_c1PdlTa4Q9X"
      },
      "execution_count": null,
      "outputs": []
    },
    {
      "cell_type": "code",
      "source": [
        "#plt.semilogy(iters,errors1)\n",
        "#plt.semilogy(iters,errors2)\n",
        "plt.semilogy(iters,errors3)\n",
        "plt.semilogy(kacz_experiment_3[1],kacz_experiment_3[2])"
      ],
      "metadata": {
        "id": "batLapOl3JdJ",
        "colab": {
          "base_uri": "https://localhost:8080/"
        },
        "outputId": "e03f23a9-bec0-4e62-bb72-fbb120ac65c8"
      },
      "execution_count": null,
      "outputs": [
        {
          "output_type": "execute_result",
          "data": {
            "text/plain": [
              "[<matplotlib.lines.Line2D at 0x7facbae18f10>]"
            ]
          },
          "metadata": {},
          "execution_count": 25
        },
        {
          "output_type": "stream",
          "name": "stderr",
          "text": [
            "/usr/local/lib/python3.10/dist-packages/matplotlib/scale.py:253: RuntimeWarning: overflow encountered in power\n",
            "  return np.power(self.base, a)\n"
          ]
        },
        {
          "output_type": "display_data",
          "data": {
            "text/plain": [
              "<Figure size 640x480 with 1 Axes>"
            ],
            "image/png": "[encoded data removed]"
          },
          "metadata": {}
        }
      ]
    },
    {
      "cell_type": "code",
      "source": [
        "#Theorem 2.5\n",
        "phi2 = 1 - (sigmin/np.linalg.norm(A_n))**2\n",
        "mean = 0\n",
        "sd = 0\n",
        "num = 20000"
      ],
      "metadata": {
        "id": "MPJKvBoDleus"
      },
      "execution_count": null,
      "outputs": []
    },
    {
      "cell_type": "code",
      "source": [
        "def RK_ex_n(A,x,b,mu,sig,num_iter):\n",
        "  m = A.shape[0]\n",
        "  n = A.shape[1]\n",
        "  x_k = np.zeros((n,1))\n",
        "  prob = [0]*m\n",
        "  error = [0]*num_iter\n",
        "  for j in range(m):\n",
        "    prob[j] = (np.linalg.norm(A[j])**2)/(np.linalg.norm(A)**2)\n",
        "  for k in range(num_iter):\n",
        "    noise = 1*np.random.normal(mu, sig, size=(m,1))\n",
        "    r = np.random.choice(range(m),p=prob)\n",
        "    x_k_new = x_k + ((b[r][0] + noise[r] - np.inner(x_k.T,A[r,:])[0])*A[r,:].T).reshape(n,1)\n",
        "    x_k = x_k_new\n",
        "    error[k] = np.linalg.norm(x_k-x)**2\n",
        "  return [x_k,list(range(num_iter)),error]"
      ],
      "metadata": {
        "id": "bEDHlwtXltMu"
      },
      "execution_count": null,
      "outputs": []
    },
    {
      "cell_type": "code",
      "source": [
        "def error_bound_thm_2_5(A,mu,sig,num_iter):\n",
        "  error = [0]*num_iter\n",
        "\n",
        "  phi2 = 1 - (sigmin/np.linalg.norm(A))**2\n",
        "  error[0] = e_0**2\n",
        "\n",
        "  for k in range(1,num_iter):\n",
        "    error[k] = (((1-phi2**(k+1))/(1-phi2))*(mu**2+sig**2))*(A.shape[0]/np.linalg.norm(A)**2) + (phi2**(k+1))*e_0**2\n",
        "  return error"
      ],
      "metadata": {
        "id": "0SYzW-kXl6-9"
      },
      "execution_count": null,
      "outputs": []
    },
    {
      "cell_type": "code",
      "source": [
        "errors_rk = error_bound_thm_2_5(A_n,mean,sd,num)\n",
        "kacz_experiment_rk = RK_ex_n(A_n,x_t,b_t,mean,sd,num)"
      ],
      "metadata": {
        "id": "t1OszD1onjeB"
      },
      "execution_count": null,
      "outputs": []
    },
    {
      "cell_type": "code",
      "source": [
        "fig = plt.figure()\n",
        "\n",
        "plt.semilogy(kacz_experiment_rk[1],kacz_experiment_rk[2],'g-')\n",
        "plt.semilogy(list(range(num)),errors_rk,'g--')\n",
        "\n",
        "plt.title(r\"$20000 \\times 100$ Matrix, $\\mu = 0$, $\\sigma = 0$\")\n",
        "plt.xlabel('$k$')\n",
        "plt.ylabel('$\\|\\mathbf{x}_k - \\mathbf{x}\\|^2$')\n",
        "plt.legend(['experiment','bound'],loc=\"lower left\")\n",
        "fig.show()"
      ],
      "metadata": {
        "id": "P1gOX_f5uV7w",
        "colab": {
          "base_uri": "https://localhost:8080/",
          "height": 475
        },
        "outputId": "da2712f9-0149-4e9a-804a-da27cc8cf19c"
      },
      "execution_count": null,
      "outputs": [
        {
          "output_type": "display_data",
          "data": {
            "text/plain": [
              "<Figure size 640x480 with 1 Axes>"
            ],
            "image/png": "[encoded data removed]"
          },
          "metadata": {}
        }
      ]
    }
  ]
}