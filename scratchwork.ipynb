{
 "cells": [
  {
   "cell_type": "code",
   "execution_count": 1,
   "id": "1ecfbe76",
   "metadata": {},
   "outputs": [],
   "source": [
    "import numpy as np\n",
    "a = np.array([0,1,1,0,1])\n",
    "L = np.where(a == 1)[0]"
   ]
  },
  {
   "cell_type": "code",
   "execution_count": 2,
   "id": "3d505102",
   "metadata": {},
   "outputs": [
    {
     "data": {
      "text/plain": [
       "array([1, 2, 4])"
      ]
     },
     "execution_count": 2,
     "metadata": {},
     "output_type": "execute_result"
    }
   ],
   "source": [
    "L"
   ]
  },
  {
   "cell_type": "code",
   "execution_count": 3,
   "id": "5ae21a9d",
   "metadata": {},
   "outputs": [
    {
     "data": {
      "text/plain": [
       "array([[2],\n",
       "       [4]])"
      ]
     },
     "execution_count": 3,
     "metadata": {},
     "output_type": "execute_result"
    }
   ],
   "source": [
    "L[np.array([1,2]).reshape(2,1)]"
   ]
  },
  {
   "cell_type": "code",
   "execution_count": 4,
   "id": "983a1010",
   "metadata": {},
   "outputs": [
    {
     "data": {
      "text/plain": [
       "[array([[1],\n",
       "        [2]]),\n",
       " array([[3],\n",
       "        [4]])]"
      ]
     },
     "execution_count": 4,
     "metadata": {},
     "output_type": "execute_result"
    }
   ],
   "source": [
    "L2 = [np.array([1,2]).reshape(2,1)]\n",
    "L2.append(np.array([3,4]).reshape(2,1))\n",
    "L2"
   ]
  },
  {
   "cell_type": "code",
   "execution_count": 5,
   "id": "09382a9c",
   "metadata": {},
   "outputs": [
    {
     "data": {
      "text/plain": [
       "0.9685426603675312"
      ]
     },
     "execution_count": 5,
     "metadata": {},
     "output_type": "execute_result"
    }
   ],
   "source": [
    "a = np.random.normal(0,1,size=(2,1))\n",
    "np.linalg.norm(a,2)"
   ]
  },
  {
   "cell_type": "code",
   "execution_count": 6,
   "id": "d14cf7c0",
   "metadata": {},
   "outputs": [
    {
     "data": {
      "text/plain": [
       "[array([[-0.57754839],\n",
       "        [ 0.77750417]]),\n",
       " array([[ 0.96860132],\n",
       "        [-0.86108469]])]"
      ]
     },
     "execution_count": 6,
     "metadata": {},
     "output_type": "execute_result"
    }
   ],
   "source": [
    "L = []\n",
    "L.append(a)\n",
    "L.append(np.random.normal(0,1,size=(2,1)))\n",
    "L"
   ]
  },
  {
   "cell_type": "code",
   "execution_count": 12,
   "id": "4904aa5d",
   "metadata": {},
   "outputs": [
    {
     "data": {
      "text/plain": [
       "[4, 5, 6, 7]"
      ]
     },
     "execution_count": 12,
     "metadata": {},
     "output_type": "execute_result"
    }
   ],
   "source": [
    "L1 = [1,2,3]\n",
    "L2 = [1,2,3,4,5,6,7]\n",
    "L3 = [i for i in L2 if i not in L1]\n",
    "L3"
   ]
  },
  {
   "cell_type": "code",
   "execution_count": 9,
   "id": "a3c6c1cd",
   "metadata": {},
   "outputs": [
    {
     "data": {
      "text/plain": [
       "True"
      ]
     },
     "execution_count": 9,
     "metadata": {},
     "output_type": "execute_result"
    }
   ],
   "source": [
    "L2 not in L1"
   ]
  },
  {
   "cell_type": "code",
   "execution_count": 13,
   "id": "24497455",
   "metadata": {},
   "outputs": [
    {
     "ename": "TypeError",
     "evalue": "list indices must be integers or slices, not list",
     "output_type": "error",
     "traceback": [
      "\u001b[0;31m---------------------------------------------------------------------------\u001b[0m",
      "\u001b[0;31mTypeError\u001b[0m                                 Traceback (most recent call last)",
      "Cell \u001b[0;32mIn[13], line 1\u001b[0m\n\u001b[0;32m----> 1\u001b[0m \u001b[43mL2\u001b[49m\u001b[43m[\u001b[49m\u001b[43mL1\u001b[49m\u001b[43m]\u001b[49m\n",
      "\u001b[0;31mTypeError\u001b[0m: list indices must be integers or slices, not list"
     ]
    }
   ],
   "source": [
    "L2[L1]"
   ]
  },
  {
   "cell_type": "code",
   "execution_count": 15,
   "id": "2a834c9e",
   "metadata": {},
   "outputs": [
    {
     "data": {
      "text/plain": [
       "[1, 2, 3]"
      ]
     },
     "execution_count": 15,
     "metadata": {},
     "output_type": "execute_result"
    }
   ],
   "source": [
    "list(filter(lambda x: x in L1, L2))"
   ]
  },
  {
   "cell_type": "code",
   "execution_count": null,
   "id": "7f2569d2",
   "metadata": {},
   "outputs": [],
   "source": []
  }
 ],
 "metadata": {
  "kernelspec": {
   "display_name": "Python 3 (ipykernel)",
   "language": "python",
   "name": "python3"
  },
  "language_info": {
   "codemirror_mode": {
    "name": "ipython",
    "version": 3
   },
   "file_extension": ".py",
   "mimetype": "text/x-python",
   "name": "python",
   "nbconvert_exporter": "python",
   "pygments_lexer": "ipython3",
   "version": "3.9.7"
  }
 },
 "nbformat": 4,
 "nbformat_minor": 5
}
