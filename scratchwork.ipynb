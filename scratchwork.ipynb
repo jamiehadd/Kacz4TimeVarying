{
 "cells": [
  {
   "cell_type": "code",
   "execution_count": 1,
   "id": "1ecfbe76",
   "metadata": {},
   "outputs": [],
   "source": [
    "import numpy as np\n",
    "a = np.array([0,1,1,0,1])\n",
    "L = np.where(a == 1)[0]"
   ]
  },
  {
   "cell_type": "code",
   "execution_count": 2,
   "id": "3d505102",
   "metadata": {},
   "outputs": [
    {
     "data": {
      "text/plain": [
       "array([1, 2, 4])"
      ]
     },
     "execution_count": 2,
     "metadata": {},
     "output_type": "execute_result"
    }
   ],
   "source": [
    "L"
   ]
  },
  {
   "cell_type": "code",
   "execution_count": 3,
   "id": "5ae21a9d",
   "metadata": {},
   "outputs": [
    {
     "data": {
      "text/plain": [
       "array([[2],\n",
       "       [4]])"
      ]
     },
     "execution_count": 3,
     "metadata": {},
     "output_type": "execute_result"
    }
   ],
   "source": [
    "L[np.array([1,2]).reshape(2,1)]"
   ]
  },
  {
   "cell_type": "code",
   "execution_count": 4,
   "id": "983a1010",
   "metadata": {},
   "outputs": [
    {
     "data": {
      "text/plain": [
       "[array([[1],\n",
       "        [2]]),\n",
       " array([[3],\n",
       "        [4]])]"
      ]
     },
     "execution_count": 4,
     "metadata": {},
     "output_type": "execute_result"
    }
   ],
   "source": [
    "L2 = [np.array([1,2]).reshape(2,1)]\n",
    "L2.append(np.array([3,4]).reshape(2,1))\n",
    "L2"
   ]
  },
  {
   "cell_type": "code",
   "execution_count": 14,
   "id": "09382a9c",
   "metadata": {},
   "outputs": [
    {
     "data": {
      "text/plain": [
       "0.5999498742143228"
      ]
     },
     "execution_count": 14,
     "metadata": {},
     "output_type": "execute_result"
    }
   ],
   "source": [
    "a = np.random.normal(0,1,size=(2,1))\n",
    "np.linalg.norm(a,2)"
   ]
  },
  {
   "cell_type": "code",
   "execution_count": 17,
   "id": "d14cf7c0",
   "metadata": {},
   "outputs": [
    {
     "data": {
      "text/plain": [
       "[array([[0.487222  ],\n",
       "        [0.35007796]]),\n",
       " array([[ 1.00463021],\n",
       "        [-1.16280627]])]"
      ]
     },
     "execution_count": 17,
     "metadata": {},
     "output_type": "execute_result"
    }
   ],
   "source": [
    "L = []\n",
    "L.append(a)\n",
    "L.append(np.random.normal(0,1,size=(2,1)))\n",
    "L"
   ]
  },
  {
   "cell_type": "code",
   "execution_count": null,
   "id": "4904aa5d",
   "metadata": {},
   "outputs": [],
   "source": []
  }
 ],
 "metadata": {
  "kernelspec": {
   "display_name": "Python 3 (ipykernel)",
   "language": "python",
   "name": "python3"
  },
  "language_info": {
   "codemirror_mode": {
    "name": "ipython",
    "version": 3
   },
   "file_extension": ".py",
   "mimetype": "text/x-python",
   "name": "python",
   "nbconvert_exporter": "python",
   "pygments_lexer": "ipython3",
   "version": "3.9.7"
  }
 },
 "nbformat": 4,
 "nbformat_minor": 5
}
