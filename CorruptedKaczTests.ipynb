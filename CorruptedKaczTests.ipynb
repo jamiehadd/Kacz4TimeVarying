{
 "cells": [
  {
   "cell_type": "code",
   "execution_count": 1,
   "metadata": {},
   "outputs": [],
   "source": [
    "import numpy as np\n",
    "import pandas as pd\n",
    "import matplotlib.pyplot as plt\n",
    "import random as random\n",
    "import math\n",
    "\n",
    "from scipy.linalg import svdvals\n",
    "from sklearn.preprocessing import normalize\n",
    "\n",
    "from minsv import *\n",
    "from errorbound import *\n",
    "from gencorrup import *\n",
    "from gennoise import *\n",
    "from qrk1 import *\n",
    "from qrk2 import *\n",
    "from noisyRK import *\n",
    "from thm25 import *\n",
    "from thm24 import *"
   ]
  },
  {
   "cell_type": "code",
   "execution_count": 2,
   "metadata": {},
   "outputs": [],
   "source": [
    "#Matrix dimensions\n",
    "m = 20000\n",
    "n = 100\n",
    "\n",
    "A_t = np.random.randn(m,n)\n",
    "\n",
    "#Create the solution equation\n",
    "A_n = normalize(A_t)\n",
    "x_t = np.random.randn(n,1)\n",
    "b_t = np.dot(A_n,x_t)\n",
    "\n",
    "x_1 = np.zeros((n,1))\n",
    "x_1[0] = 1\n",
    "\n",
    "#q = 0.8\n",
    "\n",
    "e_0 = np.linalg.norm(-1*x_t)**2"
   ]
  },
  {
   "cell_type": "code",
   "execution_count": 3,
   "metadata": {},
   "outputs": [],
   "source": [
    "qL = [0.5, 0.8, 0.9]\n",
    "betaL = [0.00005, 0.0001, 0.001]\n",
    "sdL = [0.0001, 0.01, 0.1]"
   ]
  },
  {
   "cell_type": "code",
   "execution_count": 4,
   "metadata": {},
   "outputs": [],
   "source": [
    "#Corruption size + rate manipulation\n",
    "#beta = 0.000006\n",
    "#beta = 0.00005\n",
    "csize = 10\n",
    "num = 10000\n",
    "iters = list(range(num))\n",
    "\n",
    "#Noise parameters\n",
    "mu = 0 #fixed\n",
    "sig = 0.01\n",
    "mu2 = sig*math.sqrt(2/np.pi)\n",
    "sig2 = sig*math.sqrt(1-2/np.pi)\n",
    "#noise_max = 0\n",
    "sampsize = 10"
   ]
  },
  {
   "cell_type": "code",
   "execution_count": 5,
   "metadata": {},
   "outputs": [],
   "source": [
    "#Compute sigma values\n",
    "\n",
    "#sigmin = minSV2(A_n,q,beta)\n",
    "#sigmin = (q-beta)*np.sqrt((q-beta)*m/n)\n",
    "sigmax = np.linalg.svd(A_n,compute_uv=False).max()"
   ]
  },
  {
   "cell_type": "code",
   "execution_count": 6,
   "metadata": {},
   "outputs": [],
   "source": [
    "#kacz experiment for 2.4\n",
    "#_,_,kacz_experiment_qrk,_,N,NBS = QuantileRK2(A_n,x_t,b_t,q,m,beta,csize,sig,num)"
   ]
  },
  {
   "cell_type": "code",
   "execution_count": 7,
   "metadata": {},
   "outputs": [],
   "source": [
    "#errors,phi = error_bound_thm_2_4(A_n,x_t,q,beta,N,NBS,1,num)\n",
    "#phi"
   ]
  },
  {
   "cell_type": "code",
   "execution_count": 8,
   "metadata": {},
   "outputs": [],
   "source": [
    "def funcdata(q,beta,sd):\n",
    "    noise_max = 0\n",
    "    \n",
    "    sigmin = (q-beta)*np.sqrt((q-beta)*m/n)\n",
    "    kacz_experiment_qrk_avg = [0]*num\n",
    "    errors24_avg = [0]*num\n",
    "    for i in range(sampsize):\n",
    "        _,_,kacz_experiment_qrk,noise_m_i,N,NBS = QuantileRK2(A_n,x_t,b_t,q,m,beta,csize,sd,num)\n",
    "        errors24,_ = error_bound_thm_2_4(A_n,x_t,q,beta,N,NBS,q,num)\n",
    "        noise_max = max(noise_max,noise_m_i)\n",
    "        kacz_experiment_qrk_avg = list(map(lambda x: x[0]+x[1], list(zip(kacz_experiment_qrk,kacz_experiment_qrk_avg))))\n",
    "        errors24_avg = list(map(lambda x: x[0]+x[1], list(zip(errors24,errors24_avg))))\n",
    "    kacz_experiment_qrk_avg = list(map(lambda x: x/sampsize, kacz_experiment_qrk_avg))\n",
    "    errors24_avg = list(map(lambda x: x/sampsize, errors24_avg))\n",
    "    \n",
    "    return (kacz_experiment_qrk_avg, errors24_avg)"
   ]
  },
  {
   "cell_type": "code",
   "execution_count": 9,
   "metadata": {},
   "outputs": [],
   "source": [
    "def plotgen(q,beta,sd):\n",
    "#kacz experiment avg for 2.4\n",
    "    noise_max = 0\n",
    "    \n",
    "    sigmin = (q-beta)*np.sqrt((q-beta)*m/n)\n",
    "    kacz_experiment_qrk_avg = [0]*num\n",
    "    errors24_avg = [0]*num\n",
    "    for i in range(sampsize):\n",
    "        _,_,kacz_experiment_qrk,noise_m_i,N,NBS = QuantileRK2(A_n,x_t,b_t,q,m,beta,csize,sd,num)\n",
    "        errors24,_ = error_bound_thm_2_4(A_n,x_t,q,beta,N,NBS,q,num)\n",
    "        noise_max = max(noise_max,noise_m_i)\n",
    "        kacz_experiment_qrk_avg = list(map(lambda x: x[0]+x[1], list(zip(kacz_experiment_qrk,kacz_experiment_qrk_avg))))\n",
    "        errors24_avg = list(map(lambda x: x[0]+x[1], list(zip(errors24,errors24_avg))))\n",
    "    kacz_experiment_qrk_avg = list(map(lambda x: x/sampsize, kacz_experiment_qrk_avg))\n",
    "    errors24_avg = list(map(lambda x: x/sampsize, errors24_avg))\n",
    "\n",
    "    fig = plt.figure()\n",
    "\n",
    "    plt.semilogy(iters,kacz_experiment_qrk_avg,'g-')\n",
    "    plt.semilogy(iters,errors24_avg, 'r--')\n",
    "\n",
    "    #plt.title(r\"$20000 \\times 100$ Matrix, $\\mu = $, $\\sigma = $\")\n",
    "    plt.rcParams.update({'font.size': 16})\n",
    "    plt.tick_params(labelsize=16)\n",
    "    plt.xlabel('$k$',{'size':18})\n",
    "    plt.ylabel('$||\\mathbf{x}_k - \\mathbf{x}||^2$',{'size':18})\n",
    "    plt.legend(['QRK','Theorem 2.4'],loc=\"upper right\")\n",
    "    fig.savefig('corruptedkaczplot/'+'q'+str(q)+'beta'+str(beta)+'sd'+str(sd)+'.png')\n",
    "    fig.show()"
   ]
  },
  {
   "cell_type": "code",
   "execution_count": 10,
   "metadata": {},
   "outputs": [],
   "source": [
    "def plotgen_agg(q_L,beta_L,sd_L,name):\n",
    "    fig = plt.figure()\n",
    "    markers = ['o','v','s']\n",
    "    i=0\n",
    "    \n",
    "    for a in q_L:\n",
    "        for b in beta_L:\n",
    "            for c in sd_L:\n",
    "                kaczexp,kaczbound = funcdata(a,b,c)\n",
    "                plt.semilogy(iters,kaczexp,linestyle='-',marker=markers[i],color='b',markevery=1000)\n",
    "                #[1,num/2,num-1]\n",
    "                plt.semilogy(iters,kaczbound,linestyle='--',marker=markers[i],color='r',markevery=1000)\n",
    "                i+=1\n",
    "                \n",
    "    plt.rcParams.update({'font.size': 16})\n",
    "    plt.tick_params(labelsize=16)\n",
    "    plt.xlabel('$k$',{'size':18})\n",
    "    plt.ylabel('$||\\mathbf{x}^{(k)} - \\mathbf{x}^*||^2$',{'size':18})\n",
    "    #plt.legend(['QRK','Theorem 2.4'],loc=\"upper right\")\n",
    "    #plt.legend([r'QRK $(q = 0.5)$',r'Theorem 1.4 $(q = 0.5)$',r'QRK $(q = 0.8)$',r'Theorem 1.4 $(q = 0.8)$',r'QRK $(q = 0.9)$',r'Theorem 1.4 $(q = 0.9)$'], loc='center left', bbox_to_anchor=(1, 0.5))\n",
    "    plt.legend([r'QRK $(\\beta = 0.00005)$',r'Theorem 1.4 $(\\beta = 0.00005)$',r'QRK $(\\beta = 0.0001)$',r'Theorem 1.4 $(\\beta = 0.0001)$',r'QRK $(\\beta = 0.001)$',r'Theorem 1.4 $(\\beta = 0.001)$'], loc='center left', bbox_to_anchor=(1, 0.5))\n",
    "    #plt.legend([r'QRK $(sd = 0.0001)$',r'Theorem 1.4 $(sd = 0.0001)$',r'QRK $(sd = 0.01)$',r'Theorem 1.4 $(sd = 0.01)$',r'QRK $(sd = 0.1)$',r'Theorem 1.4 $(sd = 0.1)$'], loc='center left', bbox_to_anchor=(1, 0.5))\n",
    "    fig.savefig(name, bbox_inches = \"tight\")\n",
    "    fig.show()"
   ]
  },
  {
   "cell_type": "code",
   "execution_count": 11,
   "metadata": {},
   "outputs": [
    {
     "name": "stdout",
     "output_type": "stream",
     "text": [
      "[    0     1     2 ... 19995 19997 19999]\n",
      "[14027]\n",
      "[[    0     1     2 ... 19995 19997 19999]]\n",
      "[    0     1     2 ... 19995 19997 19999]\n",
      "[9850]\n",
      "[[    0     1     2 ... 19995 19997 19999]]\n",
      "[    0     1     2 ... 19995 19997 19999]\n",
      "[11354]\n",
      "[[    0     1     2 ... 19995 19997 19999]]\n",
      "[    0     1     2 ... 19995 19997 19999]\n",
      "[2446]\n",
      "[[    0     1     2 ... 19995 19997 19999]]\n",
      "[    0     1     2 ... 19995 19997 19999]\n",
      "[13158]\n",
      "[[    0     1     2 ... 19995 19997 19999]]\n",
      "[    0     1     2 ... 19995 19997 19999]\n",
      "[78]\n",
      "[[    0     1     2 ... 19995 19997 19999]]\n",
      "[    0     1     2 ... 19995 19997 19999]\n",
      "[10179]\n",
      "[[    0     1     2 ... 19995 19997 19999]]\n",
      "[    0     1     2 ... 19995 19997 19999]\n",
      "[742]\n",
      "[[    0     1     2 ... 19995 19997 19999]]\n",
      "[    0     1     2 ... 19995 19997 19999]\n",
      "[428]\n",
      "[[    0     1     2 ... 19995 19997 19999]]\n",
      "[    0     1     2 ... 19995 19997 19999]\n",
      "[15278]\n",
      "[[    0     1     2 ... 19995 19997 19999]]\n",
      "[    0     1     2 ... 19995 19997 19999]\n",
      "[17242 17351]\n",
      "[[    0     1     2 ... 19995 19997 19999]]\n",
      "[    0     1     2 ... 19995 19997 19999]\n",
      "[12594 19555]\n",
      "[[    0     1     2 ... 19995 19997 19999]]\n",
      "[    0     1     2 ... 19995 19997 19999]\n",
      "[14606 14935]\n",
      "[[    0     1     2 ... 19995 19997 19999]]\n",
      "[    0     1     2 ... 19995 19997 19999]\n",
      "[ 7140 19208]\n",
      "[[    0     1     2 ... 19995 19997 19999]]\n",
      "[    0     1     2 ... 19995 19997 19999]\n",
      "[ 7585 10549]\n",
      "[[    0     1     2 ... 19995 19997 19999]]\n",
      "[    0     1     2 ... 19995 19997 19999]\n",
      "[2617 6384]\n",
      "[[    0     1     2 ... 19995 19997 19999]]\n",
      "[    0     1     2 ... 19995 19997 19999]\n",
      "[ 1183 18320]\n",
      "[[    0     1     2 ... 19995 19997 19999]]\n",
      "[    0     1     2 ... 19995 19997 19999]\n",
      "[ 4143 16591]\n",
      "[[    0     1     2 ... 19995 19997 19999]]\n",
      "[    0     1     2 ... 19995 19997 19999]\n",
      "[  221 17070]\n",
      "[[    0     1     2 ... 19995 19997 19999]]\n",
      "[    0     1     2 ... 19995 19997 19999]\n",
      "[ 6727 16159]\n",
      "[[    0     1     2 ... 19995 19997 19999]]\n",
      "[    0     1     2 ... 19995 19997 19999]\n",
      "[  559  2953  3144  3276  3358  5407  7152  7342  7367  7399  7658  7680\n",
      "  7760 11265 12029 13048 14437 16614 16889 18614]\n",
      "[[    0     1     2 ... 19995 19997 19999]]\n",
      "[    0     1     2 ... 19995 19997 19999]\n",
      "[  645   987  3160  3164  4518  5083  5143  8847  8910  9313  9385  9842\n",
      " 10072 11083 12755 15731 17049 18678 19051 19090]\n",
      "[[    0     1     2 ... 19995 19997 19999]]\n",
      "[    0     1     2 ... 19995 19997 19999]\n",
      "[ 1710  2833  4565  4748  5060  7134  7744  8013  8979 10206 11154 11806\n",
      " 12655 15780 15926 17367 18140 18199 18456 19129]\n",
      "[[    0     1     2 ... 19995 19997 19999]]\n",
      "[    0     1     2 ... 19995 19997 19999]\n",
      "[  432   681   692  1641  2457  4962  5584  6881  9277  9884 11645 12659\n",
      " 12864 13491 13728 14690 14923 15974 17011 18485]\n",
      "[[    0     1     2 ... 19995 19997 19999]]\n",
      "[    0     1     2 ... 19995 19997 19999]\n",
      "[ 1661  4222  5527  7281  8542  9190  9435  9677 10443 11362 12147 12203\n",
      " 12746 12788 13382 15266 16862 17250 19644 19699]\n",
      "[[    0     1     2 ... 19995 19997 19999]]\n",
      "[    0     1     2 ... 19995 19997 19999]\n",
      "[  133  2417  2862  3027  3044  3272  3362  3490  3589  4194  5639  7555\n",
      " 10862 11208 12575 12710 14012 15707 16053 16881]\n",
      "[[    0     1     2 ... 19995 19997 19999]]\n",
      "[    0     1     2 ... 19995 19997 19999]\n",
      "[  868  1609  3451  4791  6403  7666  8478  9377  9567 10934 11082 11402\n",
      " 11873 13169 13676 14148 14402 16506 17489 18090]\n",
      "[[    0     1     2 ... 19995 19997 19999]]\n",
      "[    0     1     2 ... 19995 19997 19999]\n",
      "[  501  1755  3783  4313  4515  6974  7060  7101  7266  8439  9436 10083\n",
      " 10156 10699 11386 13835 15336 16181 18433 19180]\n",
      "[[    0     1     2 ... 19995 19997 19999]]\n",
      "[    0     1     2 ... 19995 19997 19999]\n",
      "[ 1599  2157  2565  3800  5902  6083  6253  6591  7306  8621 11757 12086\n",
      " 13276 13708 14578 15588 15735 16520 18308 19366]\n",
      "[[    0     1     2 ... 19995 19997 19999]]\n",
      "[    0     1     2 ... 19995 19997 19999]\n",
      "[  651  1138  1459  2173  3295  5284  7058  7672  9287 11840 12311 12984\n",
      " 15152 15317 15970 16586 17851 18332 18584 19629]\n",
      "[[    0     1     2 ... 19995 19997 19999]]\n"
     ]
    },
    {
     "data": {
      "image/png": "[encoded data removed]",
      "text/plain": [
       "<Figure size 640x480 with 1 Axes>"
      ]
     },
     "metadata": {},
     "output_type": "display_data"
    }
   ],
   "source": [
    "plotgen_agg(qL[1:2],betaL,sdL[1:2],'corruptedkaczplot/qrk_agg_beta.png')"
   ]
  },
  {
   "cell_type": "code",
   "execution_count": null,
   "metadata": {},
   "outputs": [],
   "source": []
  },
  {
   "cell_type": "code",
   "execution_count": 12,
   "metadata": {},
   "outputs": [
    {
     "ename": "NameError",
     "evalue": "name 'noise_max' is not defined",
     "output_type": "error",
     "traceback": [
      "\u001b[0;31m---------------------------------------------------------------------------\u001b[0m",
      "\u001b[0;31mNameError\u001b[0m                                 Traceback (most recent call last)",
      "Cell \u001b[0;32mIn[12], line 1\u001b[0m\n\u001b[0;32m----> 1\u001b[0m \u001b[43mnoise_max\u001b[49m\n",
      "\u001b[0;31mNameError\u001b[0m: name 'noise_max' is not defined"
     ]
    }
   ],
   "source": [
    "noise_max"
   ]
  },
  {
   "cell_type": "code",
   "execution_count": null,
   "metadata": {},
   "outputs": [],
   "source": [
    "#Generate errors\n",
    "\n",
    "errors1 = error_bound_crl_1(A_n,x_t,q,beta,noise_max,q,num)"
   ]
  },
  {
   "cell_type": "code",
   "execution_count": null,
   "metadata": {},
   "outputs": [],
   "source": [
    "#errors2 = error_bound_crl_2(A_n,x_t,q,beta,mu,sig,mu2,sig2,q,num)"
   ]
  },
  {
   "cell_type": "code",
   "execution_count": null,
   "metadata": {},
   "outputs": [],
   "source": [
    "errors3 = error_bound_crl_3(A_n,x_t,q,beta,sig,q,num)"
   ]
  },
  {
   "cell_type": "code",
   "execution_count": null,
   "metadata": {},
   "outputs": [],
   "source": [
    "fig = plt.figure()\n",
    "\n",
    "plt.semilogy(iters,kacz_experiment_qrk_avg,'g-')\n",
    "plt.semilogy(iters,errors1, 'r--')\n",
    "#plt.semilogy(iters,errors2, 'g--')\n",
    "plt.semilogy(iters,errors3, 'b-.')\n",
    "\n",
    "#plt.title(r\"$20000 \\times 100$ Matrix, $\\mu = $, $\\sigma = $\")\n",
    "plt.rcParams.update({'font.size': 16})\n",
    "plt.tick_params(labelsize=16)\n",
    "plt.xlabel('$k$',{'size':18})\n",
    "plt.ylabel('$||\\mathbf{x}_k - \\mathbf{x}||^2$',{'size':18})\n",
    "plt.legend(['QRK','Corollary 2.4.1', 'Corollary 2.4.3'],loc=\"upper right\")\n",
    "fig.show()"
   ]
  },
  {
   "cell_type": "code",
   "execution_count": null,
   "metadata": {},
   "outputs": [],
   "source": []
  }
 ],
 "metadata": {
  "kernelspec": {
   "display_name": "Python 3 (ipykernel)",
   "language": "python",
   "name": "python3"
  },
  "language_info": {
   "codemirror_mode": {
    "name": "ipython",
    "version": 3
   },
   "file_extension": ".py",
   "mimetype": "text/x-python",
   "name": "python",
   "nbconvert_exporter": "python",
   "pygments_lexer": "ipython3",
   "version": "3.9.7"
  }
 },
 "nbformat": 4,
 "nbformat_minor": 2
}
