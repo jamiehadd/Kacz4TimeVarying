{
 "cells": [
  {
   "cell_type": "code",
   "execution_count": 1,
   "metadata": {},
   "outputs": [],
   "source": [
    "import numpy as np\n",
    "import pandas as pd\n",
    "import matplotlib.pyplot as plt\n",
    "import random as random\n",
    "\n",
    "from scipy.linalg import svdvals\n",
    "from sklearn.preprocessing import normalize\n",
    "\n",
    "from minsv import *\n",
    "from errorbound import *\n",
    "from gencorrup import *\n",
    "from qrk1 import *\n",
    "from qrk2 import *\n",
    "from noisyRK import *\n",
    "from thm25 import *"
   ]
  },
  {
   "cell_type": "code",
   "execution_count": 2,
   "metadata": {},
   "outputs": [],
   "source": [
    "#Matrix dimensions\n",
    "m = 20000\n",
    "n = 100\n",
    "\n",
    "#Vary the matrix type\n",
    "A_t = np.random.randn(m,n)\n",
    "#A_t = np.random.uniform(size=(m,n))\n",
    "#A_t = np.random.binomial(1,0.5,size=(m,n))\n",
    "\n",
    "#Create the solution equation\n",
    "A_n = normalize(A_t)\n",
    "x_t = np.random.randn(n,1)\n",
    "b_t = np.dot(A_n,x_t)\n",
    "\n",
    "x_1 = np.zeros((n,1))\n",
    "x_1[0] = 1\n",
    "\n",
    "q = 0.8\n",
    "\n",
    "e_0 = np.linalg.norm(-1*x_t)**2"
   ]
  },
  {
   "cell_type": "code",
   "execution_count": 3,
   "metadata": {},
   "outputs": [],
   "source": [
    "#Compute sigma values\n",
    "\n",
    "sigmin = minSV2(A_n,q,b)\n",
    "sigmax = np.linalg.svd(A_n,compute_uv=False).max()"
   ]
  },
  {
   "cell_type": "code",
   "execution_count": 5,
   "metadata": {},
   "outputs": [],
   "source": [
    "#Corruption size + rate manipulation\n",
    "b = 0.0001\n",
    "csize = 10000\n",
    "num = 10000\n",
    "iters = list(range(num))\n",
    "\n",
    "#Noise parameters\n",
    "sig = 0"
   ]
  },
  {
   "cell_type": "code",
   "execution_count": null,
   "metadata": {},
   "outputs": [],
   "source": [
    "#Generate errors\n",
    "\n",
    "errors1 = error_bound_crl_1(A_n,x_t,q,b,0.00003,q,num)"
   ]
  },
  {
   "cell_type": "code",
   "execution_count": null,
   "metadata": {},
   "outputs": [],
   "source": [
    "errors2 = error_bound_crl_2(A_n,x_t,q,b,0.00001,q,num)"
   ]
  },
  {
   "cell_type": "code",
   "execution_count": 4,
   "metadata": {},
   "outputs": [],
   "source": [
    "errors3 = error_bound_crl_3(A_n,x_t,q,b,0.00001,q,num)"
   ]
  },
  {
   "cell_type": "code",
   "execution_count": 6,
   "metadata": {},
   "outputs": [],
   "source": [
    "kacz_experiment = QuantileRK1_ex(A_n,x_t,b_t,q,m,b,csize,num)"
   ]
  },
  {
   "cell_type": "code",
   "execution_count": 7,
   "metadata": {},
   "outputs": [],
   "source": [
    "kacz_experiment_2 = QuantileRK2_ex(A_n,x_t,b_t,q,m,b,csize,num)"
   ]
  },
  {
   "cell_type": "code",
   "execution_count": 8,
   "metadata": {},
   "outputs": [],
   "source": [
    "kacz_experiment_3 = QuantileRK2_ex_n(A_n,x_t,b_t,q,m,b,csize,0.00001,num)"
   ]
  },
  {
   "cell_type": "code",
   "execution_count": 9,
   "metadata": {},
   "outputs": [
    {
     "data": {
      "text/plain": [
       "[<matplotlib.lines.Line2D at 0x15b10730>]"
      ]
     },
     "execution_count": 9,
     "metadata": {},
     "output_type": "execute_result"
    },
    {
     "data": {
      "image/png": "[encoded data removed]",
      "text/plain": [
       "<Figure size 432x288 with 1 Axes>"
      ]
     },
     "metadata": {
      "needs_background": "light"
     },
     "output_type": "display_data"
    }
   ],
   "source": [
    "#plt.semilogy(iters,errors1)\n",
    "#plt.semilogy(iters,errors2)\n",
    "plt.semilogy(iters,errors3)\n",
    "plt.semilogy(kacz_experiment_3[1],kacz_experiment_3[2])"
   ]
  },
  {
   "cell_type": "code",
   "execution_count": null,
   "metadata": {},
   "outputs": [],
   "source": []
  }
 ],
 "metadata": {
  "kernelspec": {
   "display_name": "Python 3 (ipykernel)",
   "language": "python",
   "name": "python3"
  },
  "language_info": {
   "codemirror_mode": {
    "name": "ipython",
    "version": 3
   },
   "file_extension": ".py",
   "mimetype": "text/x-python",
   "name": "python",
   "nbconvert_exporter": "python",
   "pygments_lexer": "ipython3",
   "version": "3.9.7"
  }
 },
 "nbformat": 4,
 "nbformat_minor": 2
}
